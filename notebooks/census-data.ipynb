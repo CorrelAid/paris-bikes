{
 "cells": [
  {
   "cell_type": "code",
   "execution_count": null,
   "metadata": {},
   "outputs": [],
   "source": [
    "%load_ext autoreload\n",
    "%autoreload 2"
   ]
  },
  {
   "cell_type": "code",
   "execution_count": null,
   "metadata": {},
   "outputs": [],
   "source": [
    "from pathlib import Path\n",
    "\n",
    "import geopandas as gpd\n",
    "import numpy as np\n",
    "import plotly.express as px\n",
    "import pandas as pd\n",
    "\n",
    "from paris_bikes.preprocess_data import get_parkings_per_iris, get_population_per_iris"
   ]
  },
  {
   "cell_type": "markdown",
   "metadata": {},
   "source": [
    "## Load files"
   ]
  },
  {
   "cell_type": "code",
   "execution_count": null,
   "metadata": {},
   "outputs": [],
   "source": [
    "census_filepath = Path(\"../data/raw/RECENSEMENT_IRIS_POPULATION.geojson\")\n",
    "parking_filepath = Path(\"../data/raw/stationnement-voie-publique-emplacements.geojson\")\n",
    "green_spaces_filepath = Path(\"../data/raw/espaces_verts.geojson\")\n",
    "\n",
    "df_census = gpd.read_file(census_filepath)\n",
    "df_parking = gpd.read_file(parking_filepath)\n",
    "df_green = gpd.read_file(green_spaces_filepath).set_index(\"nom_ev\")"
   ]
  },
  {
   "cell_type": "markdown",
   "metadata": {},
   "source": [
    "## Get parking spots per IRIS\n",
    "\n",
    "IRIS is a unit of area, defined [here](https://www.insee.fr/en/metadonnees/definition/c1523).\n",
    "\n",
    "Using only bike parking spots, where Régime Particulier `regpar` is in `[\"Vélos\", \"Box à vélos\"]`."
   ]
  },
  {
   "cell_type": "code",
   "execution_count": null,
   "metadata": {},
   "outputs": [],
   "source": [
    "df_iris = get_population_per_iris(df_census)\n",
    "df_parks_per_iris = get_parkings_per_iris(df_parking, df_iris)\n",
    "\n",
    "# Compute parking spots per person (per IRIS)\n",
    "df_merge = df_iris.join(df_parks_per_iris)\n",
    "df_merge[\"parks_per_person\"] = (\n",
    "    df_merge[\"nb_parking_spots\"] / df_merge[\"nb_pop\"]\n",
    ")"
   ]
  },
  {
   "cell_type": "markdown",
   "metadata": {},
   "source": [
    "## Overview"
   ]
  },
  {
   "cell_type": "code",
   "execution_count": null,
   "metadata": {},
   "outputs": [],
   "source": [
    "df_merge[\"nb_parking_spots\"].isnull().sum()"
   ]
  },
  {
   "cell_type": "code",
   "execution_count": null,
   "metadata": {},
   "outputs": [],
   "source": [
    "df_merge[\"parks_per_person\"].describe()"
   ]
  },
  {
   "cell_type": "markdown",
   "metadata": {},
   "source": [
    "## Tops and bottoms"
   ]
  },
  {
   "cell_type": "code",
   "execution_count": null,
   "metadata": {},
   "outputs": [],
   "source": [
    "print(\n",
    "    df_merge\n",
    "    .sort_values(\"parks_per_person\")\n",
    "    .loc[:, [\"nb_pop\", \"nb_parking_spots\", \"parks_per_person\"]]\n",
    "    .head(10)\n",
    ")"
   ]
  },
  {
   "cell_type": "code",
   "execution_count": null,
   "metadata": {},
   "outputs": [],
   "source": [
    "print(\n",
    "    df_merge\n",
    "    .sort_values(\"parks_per_person\")\n",
    "    .loc[:, [\"nb_pop\", \"nb_parking_spots\", \"parks_per_person\"]]\n",
    "    .tail(10)\n",
    ")"
   ]
  },
  {
   "cell_type": "code",
   "execution_count": null,
   "metadata": {},
   "outputs": [],
   "source": [
    "print(\n",
    "    df_merge\n",
    "    .loc[df_merge[\"nb_pop\"] > 0]\n",
    "    .sort_values(\"parks_per_person\")\n",
    "    .loc[:, [\"nb_pop\", \"nb_parking_spots\", \"parks_per_person\"]]\n",
    "    .tail(10)\n",
    ")"
   ]
  },
  {
   "cell_type": "markdown",
   "metadata": {},
   "source": [
    "## Choropleth"
   ]
  },
  {
   "cell_type": "code",
   "execution_count": null,
   "metadata": {},
   "outputs": [],
   "source": [
    "df_plot = df_merge[[\"parks_per_person\", \"geometry\"]].copy()\n",
    "df_plot[\"parks_per_person\"].clip(\n",
    "    upper=df_plot[\"parks_per_person\"].quantile(0.95),\n",
    "    inplace=True\n",
    ")\n",
    "fig = px.choropleth(\n",
    "    df_plot, \n",
    "    geojson=df_plot.geometry, \n",
    "    locations=df_plot.index, \n",
    "    projection=\"mercator\", \n",
    "    color=\"parks_per_person\"\n",
    ")\n",
    "fig.update_geos(fitbounds=\"locations\", visible=True)\n",
    "fig.update_layout(margin={\"r\":0,\"t\":0,\"l\":0,\"b\":0})\n",
    "fig.show()"
   ]
  },
  {
   "cell_type": "markdown",
   "metadata": {},
   "source": [
    "## Histogram"
   ]
  },
  {
   "cell_type": "code",
   "execution_count": null,
   "metadata": {},
   "outputs": [],
   "source": [
    "df_plot.hist()"
   ]
  },
  {
   "cell_type": "markdown",
   "metadata": {},
   "source": [
    "## Green spaces"
   ]
  },
  {
   "cell_type": "code",
   "execution_count": null,
   "metadata": {},
   "outputs": [],
   "source": [
    "df_green.head()"
   ]
  },
  {
   "cell_type": "code",
   "execution_count": null,
   "metadata": {},
   "outputs": [],
   "source": [
    "# Filter only relevant green spaces\n",
    "scope_type_ev = [\n",
    "    'Promenades ouvertes',\n",
    "    'Cimetières',\n",
    "    'Bois',\n",
    "]\n",
    "df_green_filtered = df_green.loc[\n",
    "    df_green.type_ev.isin(scope_type_ev) &\n",
    "    df_green.adresse_codepostal.str.startswith(\"75\")\n",
    "].copy()\n",
    "\n",
    "# Define a 100 m buffer around each green space\n",
    "green_space_buffer = gpd.GeoDataFrame(geometry=(\n",
    "    df_green_filtered\n",
    "    .to_crs(epsg=2154)\n",
    "    .geometry\n",
    "    .buffer(100)\n",
    "    .to_crs(epsg=4326)\n",
    "))\n",
    "\n",
    "# Identify bike parkings within each green space + buffer\n",
    "df_parkings_in_green_spaces = green_space_buffer.sjoin(df_parking, how=\"inner\")\n",
    "\n",
    "# Get the total parking spots per green area\n",
    "df_green_filtered[\"parkings\"] = df_parkings_in_green_spaces.groupby(\"nom_ev\")[\"plarel\"].sum()\n",
    "\n",
    "# Compute parking spots per person sqrt of area\n",
    "df_green_filtered[\"parkings_per_sqrt_area\"] = (\n",
    "    df_green_filtered[\"parkings\"] / np.sqrt(df_green_filtered[\"poly_area\"])\n",
    ")\n",
    "df_green_filtered[\"parkings_per_perimeter\"] = (\n",
    "    df_green_filtered[\"parkings\"] / df_green_filtered[\"perimeter\"]\n",
    ")"
   ]
  },
  {
   "cell_type": "code",
   "execution_count": null,
   "metadata": {},
   "outputs": [],
   "source": [
    "df_green_filtered[\"parkings_per_perimeter\"].dropna().sort_values()"
   ]
  },
  {
   "cell_type": "code",
   "execution_count": null,
   "metadata": {},
   "outputs": [],
   "source": [
    "df_green_filtered[\"parkings_per_perimeter\"].replace([np.inf, -np.inf], np.nan).dropna().hist()"
   ]
  },
  {
   "cell_type": "code",
   "execution_count": null,
   "metadata": {},
   "outputs": [],
   "source": [
    "df_plot = df_green_filtered[[\"parkings_per_perimeter\", \"geometry\"]].copy()\n",
    "df_plot[\"parkings_per_perimeter\"].clip(\n",
    "    upper=df_plot[\"parkings_per_perimeter\"].quantile(0.8),\n",
    "    inplace=True\n",
    ")\n",
    "fig = px.choropleth(\n",
    "    df_plot, \n",
    "    geojson=df_plot.geometry, \n",
    "    locations=df_plot.index, \n",
    "    projection=\"mercator\", \n",
    "    color=\"parkings_per_perimeter\"\n",
    ")\n",
    "fig.update_geos(fitbounds=\"locations\", visible=True)\n",
    "fig.update_layout(margin={\"r\":0,\"t\":0,\"l\":0,\"b\":0})\n",
    "fig.show()"
   ]
  },
  {
   "cell_type": "markdown",
   "metadata": {},
   "source": [
    "### Green spaces by IRIS"
   ]
  },
  {
   "cell_type": "code",
   "execution_count": null,
   "metadata": {},
   "outputs": [],
   "source": [
    "# Join with IRIS and aggregate results at IRIS level\n",
    "iris_join = (\n",
    "    df_green_filtered\n",
    "    .sjoin(df_census.reset_index().loc[:, [\"l_ir\", \"geometry\"]], how=\"left\")\n",
    "    .groupby(\"l_ir\")\n",
    "    .agg({'perimeter': 'sum', \"poly_area\": \"sum\", \"parkings\": \"sum\"})\n",
    ")\n",
    "\n",
    "# # Compute parking spots per person sqrt of area\n",
    "iris_join[\"parkings_per_sqrt_area\"] = (\n",
    "    iris_join[\"parkings\"] / np.sqrt(iris_join[\"poly_area\"])\n",
    ")\n",
    "iris_join[\"parkings_per_perimeter\"] = (\n",
    "    iris_join[\"parkings\"] / iris_join[\"perimeter\"]\n",
    ")\n",
    "\n",
    "# # Get intersection with IRIS\n",
    "# buffer_intersection = (\n",
    "#     green_space_buffer.reset_index()\n",
    "#     .overlay(df_census.reset_index().loc[:, [\"l_ir\", \"geometry\"]], how='intersection')\n",
    "# )\n",
    "# green_space_intersection = (\n",
    "#     df_green_filtered.reset_index()\n",
    "#     .overlay(df_census.reset_index().loc[:, [\"l_ir\", \"geometry\"]], how='intersection')\n",
    "# )\n",
    "\n",
    "# # Identify the IRIS of each parking spot\n",
    "# df_bike_parking = df_parking.loc[df_parking.regpar.isin([\"Vélos\", \"Box à vélos\"])]\n",
    "# df_parks_with_iris = df_bike_parking.sjoin(df_census.loc[:, [\"nb_pop\", \"geometry\"]], how=\"inner\")\n",
    "\n",
    "# # Get the total parking spots per IRIS\n",
    "# parks_per_iris = df_parks_with_iris.groupby(\"index_right\")[\"plarel\"].sum()\n",
    "\n",
    "# # Compute parking spots per person (per IRIS)\n",
    "# df_census_with_parks = df_census.join(parks_per_iris)\n",
    "# df_census_with_parks[\"parks_per_person\"] = (\n",
    "#     df_census_with_parks[\"plarel\"] / df_census_with_parks[\"nb_pop\"]\n",
    "# )\n",
    "\n",
    "# # Identify bike parkings within each green space + buffer\n",
    "# df_parkings_in_green_spaces = green_space_buffer.sjoin(df_parking, how=\"inner\")\n",
    "\n",
    "# # Get the total parking spots per green area\n",
    "# df_green_filtered[\"parkings\"] = df_parkings_in_green_spaces.groupby(\"nom_ev\")[\"plarel\"].sum()\n",
    "\n"
   ]
  },
  {
   "cell_type": "code",
   "execution_count": null,
   "metadata": {},
   "outputs": [],
   "source": [
    "iris_join.shape"
   ]
  },
  {
   "cell_type": "code",
   "execution_count": null,
   "metadata": {},
   "outputs": [],
   "source": [
    "iris_join[\"geometry\"] = (\n",
    "    df_census\n",
    "    .geometry\n",
    "    .loc[iris_join.index]\n",
    "    .reset_index()\n",
    "    .drop_duplicates(subset=\"l_ir\", keep='first')\n",
    "    .set_index(\"l_ir\")\n",
    ")\n",
    "iris_join = gpd.GeoDataFrame(iris_join)"
   ]
  },
  {
   "cell_type": "code",
   "execution_count": null,
   "metadata": {},
   "outputs": [],
   "source": [
    "iris_join"
   ]
  },
  {
   "cell_type": "code",
   "execution_count": null,
   "metadata": {},
   "outputs": [],
   "source": [
    "fig = px.choropleth(\n",
    "    iris_join, \n",
    "    geojson=iris_join.geometry, \n",
    "    locations=iris_join.index, \n",
    "    projection=\"mercator\", \n",
    "    color=\"parkings_per_perimeter\"\n",
    ")\n",
    "fig.update_geos(fitbounds=\"locations\", visible=True)\n",
    "fig.update_layout(margin={\"r\":0,\"t\":0,\"l\":0,\"b\":0})\n",
    "fig.show()"
   ]
  },
  {
   "cell_type": "code",
   "execution_count": null,
   "metadata": {},
   "outputs": [],
   "source": []
  }
 ],
 "metadata": {
  "kernelspec": {
   "display_name": "Python 3.10.4 ('.venv': poetry)",
   "language": "python",
   "name": "python3"
  },
  "language_info": {
   "codemirror_mode": {
    "name": "ipython",
    "version": 3
   },
   "file_extension": ".py",
   "mimetype": "text/x-python",
   "name": "python",
   "nbconvert_exporter": "python",
   "pygments_lexer": "ipython3",
   "version": "3.10.4"
  },
  "orig_nbformat": 4,
  "vscode": {
   "interpreter": {
    "hash": "5b34d63ab4a6b0bfd40f6a845cd28888f8efcbe971043049c79f469f4bf3f641"
   }
  }
 },
 "nbformat": 4,
 "nbformat_minor": 2
}
