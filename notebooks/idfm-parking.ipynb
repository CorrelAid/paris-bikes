{
 "cells": [
  {
   "cell_type": "markdown",
   "id": "5b662528",
   "metadata": {},
   "source": [
    "# Cleaning and preprocessing museum data"
   ]
  },
  {
   "cell_type": "code",
   "execution_count": 2,
   "id": "4723f099",
   "metadata": {},
   "outputs": [],
   "source": [
    "%load_ext autoreload\n",
    "%autoreload 2"
   ]
  },
  {
   "cell_type": "code",
   "execution_count": 3,
   "id": "fbb289bf",
   "metadata": {},
   "outputs": [
    {
     "name": "stderr",
     "output_type": "stream",
     "text": [
      "/Users/kat/Library/Caches/pypoetry/virtualenvs/paris-bikes-5sJtVNAr-py3.11/lib/python3.11/site-packages/geopandas/_compat.py:123: UserWarning: The Shapely GEOS version (3.10.3-CAPI-1.16.1) is incompatible with the GEOS version PyGEOS was compiled with (3.11.0-CAPI-1.17.0). Conversions between both will be slow.\n",
      "  warnings.warn(\n"
     ]
    }
   ],
   "source": [
    "from pathlib import Path\n",
    "\n",
    "import geopandas as gpd\n",
    "import numpy as np\n",
    "import plotly.express as px\n",
    "import pandas as pd\n",
    "from geopy.geocoders import Nominatim\n",
    "\n",
    "\n",
    "from paris_bikes.preprocess_data import get_population_per_iris, get_idfm_parkings_per_iris"
   ]
  },
  {
   "cell_type": "markdown",
   "id": "d3b0dad5",
   "metadata": {},
   "source": [
    "## Load files"
   ]
  },
  {
   "cell_type": "code",
   "execution_count": 4,
   "id": "d411bf45",
   "metadata": {},
   "outputs": [],
   "source": [
    "census_filepath = Path(\"../data/raw/RECENSEMENT_IRIS_POPULATION.geojson\")\n",
    "parking_idfm_filepath = Path(\"../data/raw/parking-velos-ile-de-france-mobilites.csv\")\n",
    "\n",
    "df_census = gpd.read_file(census_filepath)\n",
    "df_parking_idfm = pd.read_csv(parking_idfm_filepath, sep=\";\")\n",
    "df_iris = get_population_per_iris(df_census)"
   ]
  },
  {
   "cell_type": "markdown",
   "id": "41e355ac",
   "metadata": {},
   "source": [
    "## Calculate parking spots per IRIS"
   ]
  },
  {
   "cell_type": "code",
   "execution_count": 9,
   "id": "d6748018",
   "metadata": {},
   "outputs": [],
   "source": [
    "# Transform IDFM parking DataFrame to GeoDataFrame\n",
    "gdf_parking_idfm = gpd.GeoDataFrame(\n",
    "    df_parking_idfm, \n",
    "    crs=\"EPSG:4326\",\n",
    "    geometry=gpd.points_from_xy(\n",
    "        df_parking_idfm.x_long, df_parking_idfm.y_lat\n",
    "    )\n",
    ")"
   ]
  },
  {
   "cell_type": "code",
   "execution_count": 10,
   "id": "9058954c",
   "metadata": {},
   "outputs": [
    {
     "name": "stdout",
     "output_type": "stream",
     "text": [
      "                                             Geo Shape line_id  station_id  \\\n",
      "0    {\"coordinates\": [2.562582, 48.897935], \"type\":...      T4        1013   \n",
      "1    {\"coordinates\": [2.256876771, 48.94751081], \"t...       J          67   \n",
      "2    {\"coordinates\": [2.163078, 48.695907], \"type\":...       B         678   \n",
      "3    {\"coordinates\": [2.709285, 48.836608], \"type\":...       A         132   \n",
      "4    {\"coordinates\": [2.027858137, 48.97052555], \"t...       J          60   \n",
      "..                                                 ...     ...         ...   \n",
      "304  {\"coordinates\": [2.3518, 48.6753], \"type\": \"Po...       C         240   \n",
      "305  {\"coordinates\": [2.7598, 48.7393], \"type\": \"Po...       E         148   \n",
      "306  {\"coordinates\": [2.231110057, 48.95030437], \"t...       J         184   \n",
      "307  {\"coordinates\": [2.4141, 48.708], \"type\": \"Poi...       D         201   \n",
      "308  {\"coordinates\": [2.44723756, 48.73056138], \"ty...       D          52   \n",
      "\n",
      "                         name      type  num_docks_available  \\\n",
      "0                   ARBORETUM      abri                   12   \n",
      "1                  ARGENTEUIL  consigne                   78   \n",
      "2            BURES-SUR-YVETTE  consigne                   22   \n",
      "3         BUSSY-SAINT-GEORGES  consigne                   80   \n",
      "4       CHANTELOUP-LES-VIGNES      abri                   20   \n",
      "..                        ...       ...                  ...   \n",
      "304          SAVIGNY-SUR-ORGE  consigne                   20   \n",
      "305                   TOURNAN  consigne                   40   \n",
      "306          VAL-D'ARGENTEUIL      abri                   30   \n",
      "307         VIGNEUX-SUR-SEINE  consigne                   40   \n",
      "308  VILLENEUVE-SAINT-GEORGES      abri                   12   \n",
      "\n",
      "             is_installed  date_installed price price_navigo  \\\n",
      "0    true - non labellisé            2021   NaN           NC   \n",
      "1                    true            2017  20 €           20   \n",
      "2                    true            2021  30 €          0 €   \n",
      "3                    true            2022  12 €         12 €   \n",
      "4                    true            2015   NaN           NC   \n",
      "..                    ...             ...   ...          ...   \n",
      "304                  true            2018  30 €          0 €   \n",
      "305                  true            2016  30 €          0 €   \n",
      "306                  true            2018   NaN           NC   \n",
      "307                  true            2021  30 €          0 €   \n",
      "308                  true            2015   NaN           NC   \n",
      "\n",
      "                                                   web  \\\n",
      "0                                                  NaN   \n",
      "1                     http://www.argenteuil-veligo.fr/   \n",
      "2    http://www.paris-saclay.com/mobilite/a-velo/pa...   \n",
      "3    https://marneetgondoire-parking-velos-iledefra...   \n",
      "4                                                  NaN   \n",
      "..                                                 ...   \n",
      "304  https://sncf-parking-velos.iledefrance-mobilit...   \n",
      "305  https://sncf-parking-velos.iledefrance-mobilit...   \n",
      "306                                                NaN   \n",
      "307  https://sncf-parking-velos.iledefrance-mobilit...   \n",
      "308                                                NaN   \n",
      "\n",
      "                       project_owner   zdcld                   zdcname  \\\n",
      "0                               IDFM  478648                 Arboretum   \n",
      "1                 Ville d'Argenteuil   65063                Argenteuil   \n",
      "2                    CA Paris Saclay   62851          Bures-sur-Yvette   \n",
      "3    Epa Marne/ CA Marne et Gondoire   68105       Bussy-Saint-Georges   \n",
      "4       CU Grand Paris Seine et Oise   65443     Chanteloup-les-Vignes   \n",
      "..                               ...     ...                       ...   \n",
      "304                             SNCF   60987          Savigny-sur-Orge   \n",
      "305                             SNCF   67625                   Tournan   \n",
      "306               Ville d'Argenteuil   65110          Val d'Argenteuil   \n",
      "307                             SNCF   63071         Vigneux-sur-Seine   \n",
      "308                             CD94   69568  Villeneuve-Saint-Georges   \n",
      "\n",
      "     insee_code              municipality    x_long      y_lat  \\\n",
      "0       93047.0               Montfermeil  2.562582  48.897935   \n",
      "1       95018.0                Argenteuil  2.256877  48.947511   \n",
      "2       91122.0          Bures-sur-Yvette  2.163078  48.695907   \n",
      "3       77058.0       Bussy-Saint-Georges  2.709285  48.836608   \n",
      "4       78138.0     Chanteloup-les-Vignes  2.027858  48.970526   \n",
      "..          ...                       ...       ...        ...   \n",
      "304     91589.0          Savigny-sur-Orge  2.351800  48.675300   \n",
      "305     77470.0           Tournan-en-Brie  2.759800  48.739300   \n",
      "306     95018.0                Argenteuil  2.231110  48.950304   \n",
      "307     91657.0         Vigneux-sur-Seine  2.414100  48.708000   \n",
      "308     94078.0  Villeneuve-Saint-Georges  2.447238  48.730561   \n",
      "\n",
      "                   Geo Point                  geometry  \n",
      "0         48.897935,2.562582  POINT (2.56258 48.89793)  \n",
      "1    48.94751081,2.256876771  POINT (2.25688 48.94751)  \n",
      "2         48.695907,2.163078  POINT (2.16308 48.69591)  \n",
      "3         48.836608,2.709285  POINT (2.70928 48.83661)  \n",
      "4    48.97052555,2.027858137  POINT (2.02786 48.97053)  \n",
      "..                       ...                       ...  \n",
      "304           48.6753,2.3518  POINT (2.35180 48.67530)  \n",
      "305           48.7393,2.7598  POINT (2.75980 48.73930)  \n",
      "306  48.95030437,2.231110057  POINT (2.23111 48.95030)  \n",
      "307            48.708,2.4141  POINT (2.41410 48.70800)  \n",
      "308   48.73056138,2.44723756  POINT (2.44724 48.73056)  \n",
      "\n",
      "[309 rows x 20 columns]\n"
     ]
    }
   ],
   "source": [
    "print(gdf_parking_idfm)"
   ]
  },
  {
   "cell_type": "code",
   "execution_count": 11,
   "id": "7710807e",
   "metadata": {},
   "outputs": [],
   "source": [
    "# Calculate IDFM parking spots per IRIS\n",
    "df_idfm_parks_per_iris = get_idfm_parkings_per_iris(gdf_parking_idfm, df_iris)"
   ]
  },
  {
   "cell_type": "code",
   "execution_count": 12,
   "id": "d0d2dae0",
   "metadata": {},
   "outputs": [
    {
     "name": "stdout",
     "output_type": "stream",
     "text": [
      "                          nb_parking_spots\n",
      "iris                                      \n",
      "Europe 8                                39\n",
      "Necker 18                               60\n",
      "Saint-Vincent de Paul 10               109\n"
     ]
    }
   ],
   "source": [
    "print(df_idfm_parks_per_iris)"
   ]
  },
  {
   "cell_type": "code",
   "execution_count": 13,
   "id": "477a5c7e",
   "metadata": {},
   "outputs": [],
   "source": [
    "df_idfm_parks_per_iris.to_csv(\"../data/primary/idfm_parking.csv\")"
   ]
  }
 ],
 "metadata": {
  "kernelspec": {
   "display_name": "Python 3 (ipykernel)",
   "language": "python",
   "name": "python3"
  },
  "language_info": {
   "codemirror_mode": {
    "name": "ipython",
    "version": 3
   },
   "file_extension": ".py",
   "mimetype": "text/x-python",
   "name": "python",
   "nbconvert_exporter": "python",
   "pygments_lexer": "ipython3",
   "version": "3.11.0"
  }
 },
 "nbformat": 4,
 "nbformat_minor": 5
}
