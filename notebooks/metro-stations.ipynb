{
 "cells": [
  {
   "cell_type": "code",
   "execution_count": 1,
   "metadata": {},
   "outputs": [],
   "source": [
    "%load_ext autoreload\n",
    "%autoreload 2"
   ]
  },
  {
   "cell_type": "code",
   "execution_count": 2,
   "metadata": {},
   "outputs": [],
   "source": [
    "from pathlib import Path\n",
    "\n",
    "import geopandas as gpd\n",
    "import numpy as np\n",
    "import plotly.express as px\n",
    "import pandas as pd\n",
    "\n",
    "from paris_bikes.preprocess_data import get_parkings_per_iris, get_population_per_iris"
   ]
  },
  {
   "cell_type": "code",
   "execution_count": null,
   "metadata": {},
   "outputs": [],
   "source": [
    "census_filepath = Path(\"../data/raw/RECENSEMENT_IRIS_POPULATION.geojson\")\n",
    "parking_filepath = Path(\"../data/raw/stationnement-voie-publique-emplacements.geojson\")\n",
    "green_spaces_filepath = Path(\"../data/raw/espaces_verts.geojson\")\n",
    "\n",
    "df_census = gpd.read_file(census_filepath)\n",
    "df_parking = gpd.read_file(parking_filepath)\n",
    "df_green = gpd.read_file(green_spaces_filepath).set_index(\"nom_ev\")"
   ]
  }
 ],
 "metadata": {
  "kernelspec": {
   "display_name": "Python 3.10.4 ('.venv': poetry)",
   "language": "python",
   "name": "python3"
  },
  "language_info": {
   "codemirror_mode": {
    "name": "ipython",
    "version": 3
   },
   "file_extension": ".py",
   "mimetype": "text/x-python",
   "name": "python",
   "nbconvert_exporter": "python",
   "pygments_lexer": "ipython3",
   "version": "3.10.4"
  },
  "orig_nbformat": 4,
  "vscode": {
   "interpreter": {
    "hash": "5b34d63ab4a6b0bfd40f6a845cd28888f8efcbe971043049c79f469f4bf3f641"
   }
  }
 },
 "nbformat": 4,
 "nbformat_minor": 2
}
