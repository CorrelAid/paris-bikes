{
 "cells": [
  {
   "cell_type": "markdown",
   "id": "5d46bfa4",
   "metadata": {},
   "source": [
    "# Cleaning and preprocessing museum data"
   ]
  },
  {
   "cell_type": "code",
   "execution_count": 7,
   "id": "c737140e",
   "metadata": {},
   "outputs": [
    {
     "name": "stdout",
     "output_type": "stream",
     "text": [
      "The autoreload extension is already loaded. To reload it, use:\n",
      "  %reload_ext autoreload\n"
     ]
    }
   ],
   "source": [
    "%load_ext autoreload\n",
    "%autoreload 2"
   ]
  },
  {
   "cell_type": "code",
   "execution_count": 8,
   "id": "5cf710d4",
   "metadata": {},
   "outputs": [],
   "source": [
    "from pathlib import Path\n",
    "\n",
    "import geopandas as gpd\n",
    "import numpy as np\n",
    "import plotly.express as px\n",
    "import pandas as pd\n",
    "from geopy.geocoders import Nominatim\n",
    "\n",
    "\n",
    "from paris_bikes.preprocess_data import strip, my_geocoder, geocode_from_location_name, clean_museum_data, get_museum_visitors_per_iris, get_population_per_iris"
   ]
  },
  {
   "cell_type": "markdown",
   "id": "c98f4cdd",
   "metadata": {},
   "source": [
    "## Load files"
   ]
  },
  {
   "cell_type": "code",
   "execution_count": 9,
   "id": "679fa36a",
   "metadata": {},
   "outputs": [],
   "source": [
    "census_filepath = Path(\"../data/raw/RECENSEMENT_IRIS_POPULATION.geojson\")\n",
    "museum_filepath = Path(\"../data/raw/frequentation-des-musees-de-france.csv\")\n",
    "\n",
    "df_census = gpd.read_file(census_filepath)\n",
    "df_museum = pd.read_csv(museum_filepath, delimiter=\";\")\n",
    "df_iris = get_population_per_iris(df_census)"
   ]
  },
  {
   "cell_type": "markdown",
   "id": "1fd44668",
   "metadata": {},
   "source": [
    "## Clean museum data"
   ]
  },
  {
   "cell_type": "code",
   "execution_count": 10,
   "id": "cbd2ab18",
   "metadata": {},
   "outputs": [
    {
     "name": "stdout",
     "output_type": "stream",
     "text": [
      "100.0% of rows were geocoded!\n"
     ]
    }
   ],
   "source": [
    "df_museum_clean = clean_museum_data(df_museum)"
   ]
  },
  {
   "cell_type": "code",
   "execution_count": 20,
   "id": "a62fab14",
   "metadata": {},
   "outputs": [],
   "source": [
    "df_museum_clean.to_file(\"../data/primary/museums.geojson\", driver='GeoJSON')"
   ]
  },
  {
   "cell_type": "markdown",
   "id": "cfa1a737",
   "metadata": {},
   "source": [
    "## Calculate museum visitors per IRIS"
   ]
  },
  {
   "cell_type": "code",
   "execution_count": 13,
   "id": "90c335eb",
   "metadata": {},
   "outputs": [],
   "source": [
    "df_museum_visitors_iris = get_museum_visitors_per_iris(df_museum_clean, df_iris)"
   ]
  },
  {
   "cell_type": "code",
   "execution_count": 19,
   "id": "35bef409",
   "metadata": {},
   "outputs": [],
   "source": [
    "df_museum_visitors_iris.to_csv(\"../data/primary/museums.csv\")"
   ]
  }
 ],
 "metadata": {
  "kernelspec": {
   "display_name": "Python 3 (ipykernel)",
   "language": "python",
   "name": "python3"
  },
  "language_info": {
   "codemirror_mode": {
    "name": "ipython",
    "version": 3
   },
   "file_extension": ".py",
   "mimetype": "text/x-python",
   "name": "python",
   "nbconvert_exporter": "python",
   "pygments_lexer": "ipython3",
   "version": "3.11.0"
  }
 },
 "nbformat": 4,
 "nbformat_minor": 5
}
