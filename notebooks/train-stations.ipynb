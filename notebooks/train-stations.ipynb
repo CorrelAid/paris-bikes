{
 "cells": [
  {
   "cell_type": "code",
   "execution_count": null,
   "metadata": {},
   "outputs": [],
   "source": [
    "%load_ext autoreload\n",
    "%autoreload 2"
   ]
  },
  {
   "cell_type": "code",
   "execution_count": null,
   "metadata": {},
   "outputs": [],
   "source": [
    "from pathlib import Path\n",
    "\n",
    "import geopandas as gpd\n",
    "import numpy as np\n",
    "import plotly.express as px\n",
    "import pandas as pd\n",
    "\n",
    "from paris_bikes.preprocess_data import get_population_per_iris, geocode_from_location_name, get_train_passengers_per_iris"
   ]
  },
  {
   "cell_type": "code",
   "execution_count": null,
   "metadata": {},
   "outputs": [],
   "source": [
    "census_filepath = Path(\"../data/raw/RECENSEMENT_IRIS_POPULATION.geojson\")\n",
    "train_filepath = Path(\"../data/raw/frequentation-gares.csv\")\n",
    "\n",
    "df_census = gpd.read_file(census_filepath)\n",
    "df_iris = get_population_per_iris(df_census)\n",
    "df_train = pd.read_csv(train_filepath, delimiter=\";\")"
   ]
  },
  {
   "cell_type": "code",
   "execution_count": null,
   "metadata": {},
   "outputs": [],
   "source": [
    "df = df_train[df_train[\"Code postal\"].astype(str).str.startswith(\"75\")]"
   ]
  },
  {
   "cell_type": "code",
   "execution_count": null,
   "metadata": {},
   "outputs": [],
   "source": [
    "df[\"Total Voyageurs 2020\"].sum()"
   ]
  },
  {
   "cell_type": "code",
   "execution_count": null,
   "metadata": {},
   "outputs": [],
   "source": [
    "df = get_train_passengers_per_iris(df_train, df_iris)"
   ]
  },
  {
   "cell_type": "code",
   "execution_count": null,
   "metadata": {},
   "outputs": [],
   "source": [
    "df.sum()"
   ]
  },
  {
   "cell_type": "code",
   "execution_count": null,
   "metadata": {},
   "outputs": [],
   "source": [
    "df.to_csv(\"../data/primary/trains.csv\")"
   ]
  },
  {
   "cell_type": "code",
   "execution_count": null,
   "metadata": {},
   "outputs": [],
   "source": [
    "# Plot geopoints\n",
    "\n",
    "import plotly.express as px\n",
    "\n",
    "fig = px.scatter_geo(df,\n",
    "    lat=df.geometry.y,\n",
    "    lon=df.geometry.x,\n",
    "    hover_name=\"station\")\n",
    "\n",
    "fig.show()\n"
   ]
  },
  {
   "cell_type": "code",
   "execution_count": null,
   "metadata": {},
   "outputs": [],
   "source": []
  }
 ],
 "metadata": {
  "kernelspec": {
   "display_name": "Python 3.10.4 ('.venv': poetry)",
   "language": "python",
   "name": "python3"
  },
  "language_info": {
   "codemirror_mode": {
    "name": "ipython",
    "version": 3
   },
   "file_extension": ".py",
   "mimetype": "text/x-python",
   "name": "python",
   "nbconvert_exporter": "python",
   "pygments_lexer": "ipython3",
   "version": "3.10.4"
  },
  "orig_nbformat": 4,
  "vscode": {
   "interpreter": {
    "hash": "5b34d63ab4a6b0bfd40f6a845cd28888f8efcbe971043049c79f469f4bf3f641"
   }
  }
 },
 "nbformat": 4,
 "nbformat_minor": 2
}
